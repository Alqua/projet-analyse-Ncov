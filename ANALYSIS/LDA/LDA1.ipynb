{
 "cells": [
  {
   "cell_type": "markdown",
   "metadata": {},
   "source": [
    "# LDA on nCovMemory articles' database"
   ]
  },
  {
   "cell_type": "markdown",
   "metadata": {},
   "source": [
    "import libraries"
   ]
  },
  {
   "cell_type": "code",
   "execution_count": 1,
   "metadata": {},
   "outputs": [],
   "source": [
    "#import\n",
    "import os\n",
    "import numpy as np\n",
    "import pandas as pd\n",
    "import re\n",
    "import itertools\n",
    "from collections import Counter\n",
    "import pickle\n",
    "import jieba\n",
    "import matplotlib.pyplot as plt\n",
    "import gensim\n",
    "from gensim.utils import simple_preprocess\n",
    "from gensim.models import CoherenceModel\n",
    "import pyLDAvis\n",
    "import pyLDAvis.gensim\n",
    "from pprint import pprint"
   ]
  },
  {
   "cell_type": "code",
   "execution_count": 2,
   "metadata": {},
   "outputs": [],
   "source": [
    "#--reading the texts files\n",
    "le_chemin = 'cleaned_articles'  # write the texts folder path\n",
    "\n",
    "filenames = os.listdir(le_chemin)\n",
    "\n",
    "lst = []\n",
    "\n",
    "for filename in sorted(os.listdir(le_chemin)):  # for all file names in folder cleaned_articles\n",
    "    #ignore hidden files\n",
    "    if filename[0] != '.':\n",
    "\n",
    "        file_path = os.path.join(le_chemin, filename)  # Create path with folder path and file names\n",
    "        #x = file_path[17:-4]\n",
    "        x = int(filename[:-4]) #we want the filename/id as int and not string\n",
    "        boite = []\n",
    "        with open(file_path, 'r') as f2:\n",
    "            data = f2.read() #take the text in the file\n",
    "       \n",
    "        boite.append(x)\n",
    "        boite.append(data)\n",
    "        \n",
    "        lst.append(boite)"
   ]
  },
  {
   "cell_type": "code",
   "execution_count": 5,
   "metadata": {},
   "outputs": [
    {
     "data": {
      "text/html": [
       "<div>\n",
       "<style scoped>\n",
       "    .dataframe tbody tr th:only-of-type {\n",
       "        vertical-align: middle;\n",
       "    }\n",
       "\n",
       "    .dataframe tbody tr th {\n",
       "        vertical-align: top;\n",
       "    }\n",
       "\n",
       "    .dataframe thead th {\n",
       "        text-align: right;\n",
       "    }\n",
       "</style>\n",
       "<table border=\"1\" class=\"dataframe\">\n",
       "  <thead>\n",
       "    <tr style=\"text-align: right;\">\n",
       "      <th></th>\n",
       "      <th>0</th>\n",
       "      <th>1</th>\n",
       "    </tr>\n",
       "  </thead>\n",
       "  <tbody>\n",
       "    <tr>\n",
       "      <th>0</th>\n",
       "      <td>1</td>\n",
       "      <td>个临时发往武汉的口罩\\n个临时发往武汉的口罩个临时发往武汉的口罩个临时发往武汉的口罩吴呈杰报...</td>\n",
       "    </tr>\n",
       "    <tr>\n",
       "      <th>1</th>\n",
       "      <td>10</td>\n",
       "      <td>武汉封城后的宠物营救计划人类犯错的后果不该由它们承担\\n武汉封城后的宠物营救计划人类犯错的后...</td>\n",
       "    </tr>\n",
       "    <tr>\n",
       "      <th>2</th>\n",
       "      <td>100</td>\n",
       "      <td>黄冈一个武汉周边城市的疫情防控样本\\n黄冈一个武汉周边城市的疫情防控样本黄冈一个武汉周边城市...</td>\n",
       "    </tr>\n",
       "    <tr>\n",
       "      <th>3</th>\n",
       "      <td>1000</td>\n",
       "      <td>超长相处期被父母逼疯的年轻人\\n超长相处期被父母逼疯的年轻人超长相处期被父母逼疯的年轻人超长...</td>\n",
       "    </tr>\n",
       "    <tr>\n",
       "      <th>4</th>\n",
       "      <td>1001</td>\n",
       "      <td>武汉后临时外卖员我多跑一单就减少一个家庭感染的可能\\n武汉后临时外卖员我多跑一单就减少一个家...</td>\n",
       "    </tr>\n",
       "  </tbody>\n",
       "</table>\n",
       "</div>"
      ],
      "text/plain": [
       "      0                                                  1\n",
       "0     1  个临时发往武汉的口罩\\n个临时发往武汉的口罩个临时发往武汉的口罩个临时发往武汉的口罩吴呈杰报...\n",
       "1    10  武汉封城后的宠物营救计划人类犯错的后果不该由它们承担\\n武汉封城后的宠物营救计划人类犯错的后...\n",
       "2   100  黄冈一个武汉周边城市的疫情防控样本\\n黄冈一个武汉周边城市的疫情防控样本黄冈一个武汉周边城市...\n",
       "3  1000  超长相处期被父母逼疯的年轻人\\n超长相处期被父母逼疯的年轻人超长相处期被父母逼疯的年轻人超长...\n",
       "4  1001  武汉后临时外卖员我多跑一单就减少一个家庭感染的可能\\n武汉后临时外卖员我多跑一单就减少一个家..."
      ]
     },
     "execution_count": 5,
     "metadata": {},
     "output_type": "execute_result"
    }
   ],
   "source": [
    "df_texts = pd.DataFrame(lst) \n",
    "df_texts.head()"
   ]
  },
  {
   "cell_type": "markdown",
   "metadata": {},
   "source": [
    "Now let's rename the dataframe columns. (we do not want to set the id column as index because some files are missing)"
   ]
  },
  {
   "cell_type": "code",
   "execution_count": 6,
   "metadata": {},
   "outputs": [
    {
     "data": {
      "text/html": [
       "<div>\n",
       "<style scoped>\n",
       "    .dataframe tbody tr th:only-of-type {\n",
       "        vertical-align: middle;\n",
       "    }\n",
       "\n",
       "    .dataframe tbody tr th {\n",
       "        vertical-align: top;\n",
       "    }\n",
       "\n",
       "    .dataframe thead th {\n",
       "        text-align: right;\n",
       "    }\n",
       "</style>\n",
       "<table border=\"1\" class=\"dataframe\">\n",
       "  <thead>\n",
       "    <tr style=\"text-align: right;\">\n",
       "      <th></th>\n",
       "      <th>id</th>\n",
       "      <th>texts</th>\n",
       "    </tr>\n",
       "  </thead>\n",
       "  <tbody>\n",
       "    <tr>\n",
       "      <th>0</th>\n",
       "      <td>1</td>\n",
       "      <td>个临时发往武汉的口罩\\n个临时发往武汉的口罩个临时发往武汉的口罩个临时发往武汉的口罩吴呈杰报...</td>\n",
       "    </tr>\n",
       "    <tr>\n",
       "      <th>1</th>\n",
       "      <td>10</td>\n",
       "      <td>武汉封城后的宠物营救计划人类犯错的后果不该由它们承担\\n武汉封城后的宠物营救计划人类犯错的后...</td>\n",
       "    </tr>\n",
       "    <tr>\n",
       "      <th>2</th>\n",
       "      <td>100</td>\n",
       "      <td>黄冈一个武汉周边城市的疫情防控样本\\n黄冈一个武汉周边城市的疫情防控样本黄冈一个武汉周边城市...</td>\n",
       "    </tr>\n",
       "    <tr>\n",
       "      <th>3</th>\n",
       "      <td>1000</td>\n",
       "      <td>超长相处期被父母逼疯的年轻人\\n超长相处期被父母逼疯的年轻人超长相处期被父母逼疯的年轻人超长...</td>\n",
       "    </tr>\n",
       "    <tr>\n",
       "      <th>4</th>\n",
       "      <td>1001</td>\n",
       "      <td>武汉后临时外卖员我多跑一单就减少一个家庭感染的可能\\n武汉后临时外卖员我多跑一单就减少一个家...</td>\n",
       "    </tr>\n",
       "  </tbody>\n",
       "</table>\n",
       "</div>"
      ],
      "text/plain": [
       "     id                                              texts\n",
       "0     1  个临时发往武汉的口罩\\n个临时发往武汉的口罩个临时发往武汉的口罩个临时发往武汉的口罩吴呈杰报...\n",
       "1    10  武汉封城后的宠物营救计划人类犯错的后果不该由它们承担\\n武汉封城后的宠物营救计划人类犯错的后...\n",
       "2   100  黄冈一个武汉周边城市的疫情防控样本\\n黄冈一个武汉周边城市的疫情防控样本黄冈一个武汉周边城市...\n",
       "3  1000  超长相处期被父母逼疯的年轻人\\n超长相处期被父母逼疯的年轻人超长相处期被父母逼疯的年轻人超长...\n",
       "4  1001  武汉后临时外卖员我多跑一单就减少一个家庭感染的可能\\n武汉后临时外卖员我多跑一单就减少一个家..."
      ]
     },
     "execution_count": 6,
     "metadata": {},
     "output_type": "execute_result"
    }
   ],
   "source": [
    "df_texts = df_texts.rename(columns = {0:'id',1:'texts'})\n",
    "df_texts.head()"
   ]
  },
  {
   "cell_type": "markdown",
   "metadata": {},
   "source": [
    "let's reorder the dataframe based on the id column"
   ]
  },
  {
   "cell_type": "code",
   "execution_count": 7,
   "metadata": {},
   "outputs": [
    {
     "data": {
      "text/html": [
       "<div>\n",
       "<style scoped>\n",
       "    .dataframe tbody tr th:only-of-type {\n",
       "        vertical-align: middle;\n",
       "    }\n",
       "\n",
       "    .dataframe tbody tr th {\n",
       "        vertical-align: top;\n",
       "    }\n",
       "\n",
       "    .dataframe thead th {\n",
       "        text-align: right;\n",
       "    }\n",
       "</style>\n",
       "<table border=\"1\" class=\"dataframe\">\n",
       "  <thead>\n",
       "    <tr style=\"text-align: right;\">\n",
       "      <th></th>\n",
       "      <th>id</th>\n",
       "      <th>texts</th>\n",
       "    </tr>\n",
       "  </thead>\n",
       "  <tbody>\n",
       "    <tr>\n",
       "      <th>0</th>\n",
       "      <td>1</td>\n",
       "      <td>个临时发往武汉的口罩\\n个临时发往武汉的口罩个临时发往武汉的口罩个临时发往武汉的口罩吴呈杰报...</td>\n",
       "    </tr>\n",
       "    <tr>\n",
       "      <th>1108</th>\n",
       "      <td>2</td>\n",
       "      <td>武汉隔离疫区信息孤岛与一辆鄂车的漂流\\n武汉隔离疫区信息孤岛与一辆鄂车的漂流武汉隔离疫区信息...</td>\n",
       "    </tr>\n",
       "    <tr>\n",
       "      <th>2206</th>\n",
       "      <td>3</td>\n",
       "      <td>我家离华南海鲜市场很近返乡封城过年一位武汉大学生的过去一周\\n我家离华南海鲜市场很近返乡封城...</td>\n",
       "    </tr>\n",
       "    <tr>\n",
       "      <th>3304</th>\n",
       "      <td>4</td>\n",
       "      <td>疫情危机中不被看见的人们武汉周边城市百姓的自救行动\\n疫情危机中不被看见的人们武汉周边城市百...</td>\n",
       "    </tr>\n",
       "    <tr>\n",
       "      <th>4297</th>\n",
       "      <td>5</td>\n",
       "      <td>孝感前线医生武汉更难我们下面不好意思提要求\\n孝感前线医生武汉更难我们下面不好意思提要求孝感...</td>\n",
       "    </tr>\n",
       "  </tbody>\n",
       "</table>\n",
       "</div>"
      ],
      "text/plain": [
       "      id                                              texts\n",
       "0      1  个临时发往武汉的口罩\\n个临时发往武汉的口罩个临时发往武汉的口罩个临时发往武汉的口罩吴呈杰报...\n",
       "1108   2  武汉隔离疫区信息孤岛与一辆鄂车的漂流\\n武汉隔离疫区信息孤岛与一辆鄂车的漂流武汉隔离疫区信息...\n",
       "2206   3  我家离华南海鲜市场很近返乡封城过年一位武汉大学生的过去一周\\n我家离华南海鲜市场很近返乡封城...\n",
       "3304   4  疫情危机中不被看见的人们武汉周边城市百姓的自救行动\\n疫情危机中不被看见的人们武汉周边城市百...\n",
       "4297   5  孝感前线医生武汉更难我们下面不好意思提要求\\n孝感前线医生武汉更难我们下面不好意思提要求孝感..."
      ]
     },
     "execution_count": 7,
     "metadata": {},
     "output_type": "execute_result"
    }
   ],
   "source": [
    "df_texts = df_texts.sort_values(by = 'id' )\n",
    "df_texts.head()"
   ]
  },
  {
   "cell_type": "markdown",
   "metadata": {},
   "source": [
    "Reset the index after re-ordering"
   ]
  },
  {
   "cell_type": "code",
   "execution_count": 8,
   "metadata": {},
   "outputs": [
    {
     "data": {
      "text/html": [
       "<div>\n",
       "<style scoped>\n",
       "    .dataframe tbody tr th:only-of-type {\n",
       "        vertical-align: middle;\n",
       "    }\n",
       "\n",
       "    .dataframe tbody tr th {\n",
       "        vertical-align: top;\n",
       "    }\n",
       "\n",
       "    .dataframe thead th {\n",
       "        text-align: right;\n",
       "    }\n",
       "</style>\n",
       "<table border=\"1\" class=\"dataframe\">\n",
       "  <thead>\n",
       "    <tr style=\"text-align: right;\">\n",
       "      <th></th>\n",
       "      <th>id</th>\n",
       "      <th>texts</th>\n",
       "    </tr>\n",
       "  </thead>\n",
       "  <tbody>\n",
       "    <tr>\n",
       "      <th>0</th>\n",
       "      <td>1</td>\n",
       "      <td>个临时发往武汉的口罩\\n个临时发往武汉的口罩个临时发往武汉的口罩个临时发往武汉的口罩吴呈杰报...</td>\n",
       "    </tr>\n",
       "    <tr>\n",
       "      <th>1</th>\n",
       "      <td>2</td>\n",
       "      <td>武汉隔离疫区信息孤岛与一辆鄂车的漂流\\n武汉隔离疫区信息孤岛与一辆鄂车的漂流武汉隔离疫区信息...</td>\n",
       "    </tr>\n",
       "    <tr>\n",
       "      <th>2</th>\n",
       "      <td>3</td>\n",
       "      <td>我家离华南海鲜市场很近返乡封城过年一位武汉大学生的过去一周\\n我家离华南海鲜市场很近返乡封城...</td>\n",
       "    </tr>\n",
       "    <tr>\n",
       "      <th>3</th>\n",
       "      <td>4</td>\n",
       "      <td>疫情危机中不被看见的人们武汉周边城市百姓的自救行动\\n疫情危机中不被看见的人们武汉周边城市百...</td>\n",
       "    </tr>\n",
       "    <tr>\n",
       "      <th>4</th>\n",
       "      <td>5</td>\n",
       "      <td>孝感前线医生武汉更难我们下面不好意思提要求\\n孝感前线医生武汉更难我们下面不好意思提要求孝感...</td>\n",
       "    </tr>\n",
       "  </tbody>\n",
       "</table>\n",
       "</div>"
      ],
      "text/plain": [
       "   id                                              texts\n",
       "0   1  个临时发往武汉的口罩\\n个临时发往武汉的口罩个临时发往武汉的口罩个临时发往武汉的口罩吴呈杰报...\n",
       "1   2  武汉隔离疫区信息孤岛与一辆鄂车的漂流\\n武汉隔离疫区信息孤岛与一辆鄂车的漂流武汉隔离疫区信息...\n",
       "2   3  我家离华南海鲜市场很近返乡封城过年一位武汉大学生的过去一周\\n我家离华南海鲜市场很近返乡封城...\n",
       "3   4  疫情危机中不被看见的人们武汉周边城市百姓的自救行动\\n疫情危机中不被看见的人们武汉周边城市百...\n",
       "4   5  孝感前线医生武汉更难我们下面不好意思提要求\\n孝感前线医生武汉更难我们下面不好意思提要求孝感..."
      ]
     },
     "execution_count": 8,
     "metadata": {},
     "output_type": "execute_result"
    }
   ],
   "source": [
    "df_texts = df_texts.reset_index(drop=True)\n",
    "df_texts.head()"
   ]
  },
  {
   "cell_type": "markdown",
   "metadata": {},
   "source": [
    "We have a perfect dataframe. It is easy to display and the texts are easy to access individually or in group. We can save it just in case."
   ]
  },
  {
   "cell_type": "code",
   "execution_count": 10,
   "metadata": {},
   "outputs": [],
   "source": [
    "#create folder to save it:\n",
    "if not os.path.exists('dataframe'):\n",
    "    os.makedirs('dataframe')\n",
    "    \n",
    "df_texts.to_csv (r'dataframe/df_texts_without_index.csv', index = False, header=True) #save it without index if we want to open it with R\n",
    "df_texts.to_csv (r'dataframe/df_texts_with_index.csv', index = True, header=True) #with index"
   ]
  },
  {
   "cell_type": "markdown",
   "metadata": {},
   "source": [
    "The texts are already quite clean. We need to cut them with jieba. We start by loading our words with priority cutting into jieba before cutting. We do that because we want to remove the media names which comes back many times in the articles but do not provide more information on a topic. To be able to remove them from a stopword list, they must be cut properly first, hence the priority cutting."
   ]
  },
  {
   "cell_type": "code",
   "execution_count": 11,
   "metadata": {},
   "outputs": [
    {
     "name": "stderr",
     "output_type": "stream",
     "text": [
      "Building prefix dict from the default dictionary ...\n",
      "Dumping model to file cache /tmp/jieba.cache\n",
      "Loading model cost 0.561 seconds.\n",
      "Prefix dict has been built successfully.\n"
     ]
    }
   ],
   "source": [
    "with open('jieba_lists/UsrWords.txt', 'r', encoding='utf8') as f:\n",
    "    custom_noun = f.readlines()\n",
    "    for noun in custom_noun:\n",
    "        jieba.add_word(noun.replace('\\n', ''), freq=None, tag='n')"
   ]
  },
  {
   "cell_type": "markdown",
   "metadata": {},
   "source": [
    "cutting"
   ]
  },
  {
   "cell_type": "code",
   "execution_count": 12,
   "metadata": {},
   "outputs": [
    {
     "data": {
      "text/html": [
       "<div>\n",
       "<style scoped>\n",
       "    .dataframe tbody tr th:only-of-type {\n",
       "        vertical-align: middle;\n",
       "    }\n",
       "\n",
       "    .dataframe tbody tr th {\n",
       "        vertical-align: top;\n",
       "    }\n",
       "\n",
       "    .dataframe thead th {\n",
       "        text-align: right;\n",
       "    }\n",
       "</style>\n",
       "<table border=\"1\" class=\"dataframe\">\n",
       "  <thead>\n",
       "    <tr style=\"text-align: right;\">\n",
       "      <th></th>\n",
       "      <th>id</th>\n",
       "      <th>texts</th>\n",
       "      <th>words</th>\n",
       "    </tr>\n",
       "  </thead>\n",
       "  <tbody>\n",
       "    <tr>\n",
       "      <th>0</th>\n",
       "      <td>1</td>\n",
       "      <td>个临时发往武汉的口罩\\n个临时发往武汉的口罩个临时发往武汉的口罩个临时发往武汉的口罩吴呈杰报...</td>\n",
       "      <td>[个, 临时, 发, 往, 武汉, 的, 口罩, \\n, 个, 临时, 发, 往, 武汉, ...</td>\n",
       "    </tr>\n",
       "    <tr>\n",
       "      <th>1</th>\n",
       "      <td>2</td>\n",
       "      <td>武汉隔离疫区信息孤岛与一辆鄂车的漂流\\n武汉隔离疫区信息孤岛与一辆鄂车的漂流武汉隔离疫区信息...</td>\n",
       "      <td>[武汉, 隔离, 疫区, 信息, 孤岛, 与, 一辆, 鄂车, 的, 漂流, \\n, 武汉,...</td>\n",
       "    </tr>\n",
       "    <tr>\n",
       "      <th>2</th>\n",
       "      <td>3</td>\n",
       "      <td>我家离华南海鲜市场很近返乡封城过年一位武汉大学生的过去一周\\n我家离华南海鲜市场很近返乡封城...</td>\n",
       "      <td>[我家, 离, 华南, 海鲜, 市场, 很近, 返乡, 封城, 过年, 一位, 武汉, 大学...</td>\n",
       "    </tr>\n",
       "    <tr>\n",
       "      <th>3</th>\n",
       "      <td>4</td>\n",
       "      <td>疫情危机中不被看见的人们武汉周边城市百姓的自救行动\\n疫情危机中不被看见的人们武汉周边城市百...</td>\n",
       "      <td>[疫情, 危机, 中, 不, 被, 看见, 的, 人们, 武汉, 周边城市, 百姓, 的, ...</td>\n",
       "    </tr>\n",
       "    <tr>\n",
       "      <th>4</th>\n",
       "      <td>5</td>\n",
       "      <td>孝感前线医生武汉更难我们下面不好意思提要求\\n孝感前线医生武汉更难我们下面不好意思提要求孝感...</td>\n",
       "      <td>[孝感, 前线, 医生, 武汉, 更难, 我们, 下面, 不好意思, 提, 要求, \\n, ...</td>\n",
       "    </tr>\n",
       "  </tbody>\n",
       "</table>\n",
       "</div>"
      ],
      "text/plain": [
       "   id                                              texts  \\\n",
       "0   1  个临时发往武汉的口罩\\n个临时发往武汉的口罩个临时发往武汉的口罩个临时发往武汉的口罩吴呈杰报...   \n",
       "1   2  武汉隔离疫区信息孤岛与一辆鄂车的漂流\\n武汉隔离疫区信息孤岛与一辆鄂车的漂流武汉隔离疫区信息...   \n",
       "2   3  我家离华南海鲜市场很近返乡封城过年一位武汉大学生的过去一周\\n我家离华南海鲜市场很近返乡封城...   \n",
       "3   4  疫情危机中不被看见的人们武汉周边城市百姓的自救行动\\n疫情危机中不被看见的人们武汉周边城市百...   \n",
       "4   5  孝感前线医生武汉更难我们下面不好意思提要求\\n孝感前线医生武汉更难我们下面不好意思提要求孝感...   \n",
       "\n",
       "                                               words  \n",
       "0  [个, 临时, 发, 往, 武汉, 的, 口罩, \\n, 个, 临时, 发, 往, 武汉, ...  \n",
       "1  [武汉, 隔离, 疫区, 信息, 孤岛, 与, 一辆, 鄂车, 的, 漂流, \\n, 武汉,...  \n",
       "2  [我家, 离, 华南, 海鲜, 市场, 很近, 返乡, 封城, 过年, 一位, 武汉, 大学...  \n",
       "3  [疫情, 危机, 中, 不, 被, 看见, 的, 人们, 武汉, 周边城市, 百姓, 的, ...  \n",
       "4  [孝感, 前线, 医生, 武汉, 更难, 我们, 下面, 不好意思, 提, 要求, \\n, ...  "
      ]
     },
     "execution_count": 12,
     "metadata": {},
     "output_type": "execute_result"
    }
   ],
   "source": [
    "df_texts['words'] = df_texts.texts.apply(jieba.lcut)\n",
    "df_texts.head()"
   ]
  },
  {
   "cell_type": "markdown",
   "metadata": {},
   "source": [
    "Stopwords removal"
   ]
  },
  {
   "cell_type": "code",
   "execution_count": 13,
   "metadata": {},
   "outputs": [],
   "source": [
    "fh = open(\"jieba_lists/stopwords.txt\")\n",
    "stopwords=[]\n",
    "stopwords.append('\\n') #append the '\\n' in the beginning otherwise it would be erased by strip\n",
    "stopwords.append('%')  #we append some special characters, I am also goign to add it to the cleaning function pre-processing\n",
    "stopwords.append('|')  #the texts but sometimes it does not catch them all\n",
    "stopwords.append('△')\n",
    "stopwords.append('▼')\n",
    "stopwords.append('｜')\n",
    "stopwords.append('\\u3000') #this is a special empty space, I also removed tab space in the cleaning function, perhaps that'll help too\n",
    "for line in fh:\n",
    "    line = line.rstrip()\n",
    "    stopwords.append(line)\n",
    "\n",
    "def stp_removal(wordlist, stopwords=stopwords):\n",
    "    lili=[]\n",
    "    for word in wordlist:\n",
    "        if word not in stopwords:\n",
    "            lili.append(word)\n",
    "    return lili\n"
   ]
  },
  {
   "cell_type": "code",
   "execution_count": 14,
   "metadata": {},
   "outputs": [
    {
     "data": {
      "text/html": [
       "<div>\n",
       "<style scoped>\n",
       "    .dataframe tbody tr th:only-of-type {\n",
       "        vertical-align: middle;\n",
       "    }\n",
       "\n",
       "    .dataframe tbody tr th {\n",
       "        vertical-align: top;\n",
       "    }\n",
       "\n",
       "    .dataframe thead th {\n",
       "        text-align: right;\n",
       "    }\n",
       "</style>\n",
       "<table border=\"1\" class=\"dataframe\">\n",
       "  <thead>\n",
       "    <tr style=\"text-align: right;\">\n",
       "      <th></th>\n",
       "      <th>id</th>\n",
       "      <th>texts</th>\n",
       "      <th>words</th>\n",
       "      <th>cleaned_words</th>\n",
       "    </tr>\n",
       "  </thead>\n",
       "  <tbody>\n",
       "    <tr>\n",
       "      <th>0</th>\n",
       "      <td>1</td>\n",
       "      <td>个临时发往武汉的口罩\\n个临时发往武汉的口罩个临时发往武汉的口罩个临时发往武汉的口罩吴呈杰报...</td>\n",
       "      <td>[个, 临时, 发, 往, 武汉, 的, 口罩, \\n, 个, 临时, 发, 往, 武汉, ...</td>\n",
       "      <td>[临时, 发, 武汉, 口罩, 临时, 发, 武汉, 口罩, 临时, 发, 武汉, 口罩, ...</td>\n",
       "    </tr>\n",
       "    <tr>\n",
       "      <th>1</th>\n",
       "      <td>2</td>\n",
       "      <td>武汉隔离疫区信息孤岛与一辆鄂车的漂流\\n武汉隔离疫区信息孤岛与一辆鄂车的漂流武汉隔离疫区信息...</td>\n",
       "      <td>[武汉, 隔离, 疫区, 信息, 孤岛, 与, 一辆, 鄂车, 的, 漂流, \\n, 武汉,...</td>\n",
       "      <td>[武汉, 隔离, 疫区, 信息, 孤岛, 一辆, 鄂车, 漂流, 武汉, 隔离, 疫区, 信...</td>\n",
       "    </tr>\n",
       "    <tr>\n",
       "      <th>2</th>\n",
       "      <td>3</td>\n",
       "      <td>我家离华南海鲜市场很近返乡封城过年一位武汉大学生的过去一周\\n我家离华南海鲜市场很近返乡封城...</td>\n",
       "      <td>[我家, 离, 华南, 海鲜, 市场, 很近, 返乡, 封城, 过年, 一位, 武汉, 大学...</td>\n",
       "      <td>[我家, 华南, 海鲜, 市场, 很近, 返乡, 封城, 过年, 一位, 武汉, 大学生, ...</td>\n",
       "    </tr>\n",
       "    <tr>\n",
       "      <th>3</th>\n",
       "      <td>4</td>\n",
       "      <td>疫情危机中不被看见的人们武汉周边城市百姓的自救行动\\n疫情危机中不被看见的人们武汉周边城市百...</td>\n",
       "      <td>[疫情, 危机, 中, 不, 被, 看见, 的, 人们, 武汉, 周边城市, 百姓, 的, ...</td>\n",
       "      <td>[疫情, 危机, 看见, 武汉, 周边城市, 百姓, 自救, 行动, 疫情, 危机, 看见,...</td>\n",
       "    </tr>\n",
       "    <tr>\n",
       "      <th>4</th>\n",
       "      <td>5</td>\n",
       "      <td>孝感前线医生武汉更难我们下面不好意思提要求\\n孝感前线医生武汉更难我们下面不好意思提要求孝感...</td>\n",
       "      <td>[孝感, 前线, 医生, 武汉, 更难, 我们, 下面, 不好意思, 提, 要求, \\n, ...</td>\n",
       "      <td>[孝感, 前线, 医生, 武汉, 更难, 下面, 不好意思, 提, 要求, 孝感, 前线, ...</td>\n",
       "    </tr>\n",
       "  </tbody>\n",
       "</table>\n",
       "</div>"
      ],
      "text/plain": [
       "   id                                              texts  \\\n",
       "0   1  个临时发往武汉的口罩\\n个临时发往武汉的口罩个临时发往武汉的口罩个临时发往武汉的口罩吴呈杰报...   \n",
       "1   2  武汉隔离疫区信息孤岛与一辆鄂车的漂流\\n武汉隔离疫区信息孤岛与一辆鄂车的漂流武汉隔离疫区信息...   \n",
       "2   3  我家离华南海鲜市场很近返乡封城过年一位武汉大学生的过去一周\\n我家离华南海鲜市场很近返乡封城...   \n",
       "3   4  疫情危机中不被看见的人们武汉周边城市百姓的自救行动\\n疫情危机中不被看见的人们武汉周边城市百...   \n",
       "4   5  孝感前线医生武汉更难我们下面不好意思提要求\\n孝感前线医生武汉更难我们下面不好意思提要求孝感...   \n",
       "\n",
       "                                               words  \\\n",
       "0  [个, 临时, 发, 往, 武汉, 的, 口罩, \\n, 个, 临时, 发, 往, 武汉, ...   \n",
       "1  [武汉, 隔离, 疫区, 信息, 孤岛, 与, 一辆, 鄂车, 的, 漂流, \\n, 武汉,...   \n",
       "2  [我家, 离, 华南, 海鲜, 市场, 很近, 返乡, 封城, 过年, 一位, 武汉, 大学...   \n",
       "3  [疫情, 危机, 中, 不, 被, 看见, 的, 人们, 武汉, 周边城市, 百姓, 的, ...   \n",
       "4  [孝感, 前线, 医生, 武汉, 更难, 我们, 下面, 不好意思, 提, 要求, \\n, ...   \n",
       "\n",
       "                                       cleaned_words  \n",
       "0  [临时, 发, 武汉, 口罩, 临时, 发, 武汉, 口罩, 临时, 发, 武汉, 口罩, ...  \n",
       "1  [武汉, 隔离, 疫区, 信息, 孤岛, 一辆, 鄂车, 漂流, 武汉, 隔离, 疫区, 信...  \n",
       "2  [我家, 华南, 海鲜, 市场, 很近, 返乡, 封城, 过年, 一位, 武汉, 大学生, ...  \n",
       "3  [疫情, 危机, 看见, 武汉, 周边城市, 百姓, 自救, 行动, 疫情, 危机, 看见,...  \n",
       "4  [孝感, 前线, 医生, 武汉, 更难, 下面, 不好意思, 提, 要求, 孝感, 前线, ...  "
      ]
     },
     "execution_count": 14,
     "metadata": {},
     "output_type": "execute_result"
    }
   ],
   "source": [
    "df_texts['cleaned_words'] = df_texts.words.apply(stp_removal)\n",
    "df_texts.head()"
   ]
  },
  {
   "cell_type": "markdown",
   "metadata": {},
   "source": [
    "Prepare to LDA"
   ]
  },
  {
   "cell_type": "code",
   "execution_count": 15,
   "metadata": {},
   "outputs": [],
   "source": [
    "data_lemmatized = df_texts.cleaned_words\n",
    "#print(data_lemmatized)\n",
    "\n",
    "id2word = gensim.corpora.Dictionary(data_lemmatized)\n",
    "\n",
    "#Normally, it is better to filter most frequent words first. This time, however, we just want to see what comes\n",
    "#out without doing it. We will use it in LDA2\n",
    "#id2word.filter_extremes(no_above= 0.29) \n",
    "\n",
    "corpus = [id2word.doc2bow(doc) for doc in data_lemmatized]"
   ]
  },
  {
   "cell_type": "markdown",
   "metadata": {},
   "source": [
    "Check what number of topic is best"
   ]
  },
  {
   "cell_type": "code",
   "execution_count": 16,
   "metadata": {},
   "outputs": [],
   "source": [
    "import os\n",
    "from gensim.models.wrappers import LdaMallet\n",
    "os.environ.update({'MALLET_HOME':r'/home/bilatli/DEV/mallet-2.0.8/'}) \n",
    "#You should update this path as per the path of Mallet directory on your system.\n",
    "mallet_path = r'/home/bilatli/DEV/mallet-2.0.8/bin/mallet' \n",
    "#You should update this path as per the path of Mallet directory on your system.\n",
    "\n",
    "def coherence_values_computation(dictionary, corpus, texts, limit, start=2, step=3):\n",
    "   coherence_values = []\n",
    "   model_list = []\n",
    "   for num_topics in range(start, limit, step):\n",
    "      model = gensim.models.wrappers.LdaMallet(\n",
    "         mallet_path, corpus=corpus, num_topics=num_topics, iterations=1000, workers = 6, id2word=id2word\n",
    "      )\n",
    "      model_list.append(model)\n",
    "      \n",
    "      coherencemodel = CoherenceModel(\n",
    "      model=model, texts=texts, dictionary=dictionary, coherence='c_v'\n",
    "   )\n",
    "      coherence_values.append(coherencemodel.get_coherence())\n",
    "   return model_list, coherence_values"
   ]
  },
  {
   "cell_type": "code",
   "execution_count": 17,
   "metadata": {},
   "outputs": [
    {
     "data": {
      "image/png": "[encoded data removed]",
      "text/plain": [
       "<Figure size 432x288 with 1 Axes>"
      ]
     },
     "metadata": {
      "needs_background": "light"
     },
     "output_type": "display_data"
    }
   ],
   "source": [
    "model_list, coherence_values = coherence_values_computation (\n",
    "   dictionary=id2word, corpus=corpus, texts=data_lemmatized, \n",
    "   start=2, limit=35, step=3\n",
    ")\n",
    "\n",
    "limit=35; start=2; step=3;\n",
    "x = range(start, limit, step)\n",
    "plt.plot(x, coherence_values)\n",
    "plt.xlabel(\"Num Topics\")\n",
    "plt.ylabel(\"Coherence score\")\n",
    "plt.legend((\"coherence_values\"), loc='best')\n",
    "plt.show()"
   ]
  },
  {
   "cell_type": "markdown",
   "metadata": {},
   "source": [
    "let's check coherence value"
   ]
  },
  {
   "cell_type": "code",
   "execution_count": 18,
   "metadata": {
    "scrolled": false
   },
   "outputs": [
    {
     "name": "stdout",
     "output_type": "stream",
     "text": [
      "Num Topics = 2  is having Coherence Value of 0.4457\n",
      "Num Topics = 5  is having Coherence Value of 0.4587\n",
      "Num Topics = 8  is having Coherence Value of 0.5235\n",
      "Num Topics = 11  is having Coherence Value of 0.5397\n",
      "Num Topics = 14  is having Coherence Value of 0.5462\n",
      "Num Topics = 17  is having Coherence Value of 0.5036\n",
      "Num Topics = 20  is having Coherence Value of 0.5451\n",
      "Num Topics = 23  is having Coherence Value of 0.5255\n",
      "Num Topics = 26  is having Coherence Value of 0.5313\n",
      "Num Topics = 29  is having Coherence Value of 0.5305\n",
      "Num Topics = 32  is having Coherence Value of 0.5376\n"
     ]
    }
   ],
   "source": [
    "for m, cv in zip(x, coherence_values):\n",
    "   print(\"Num Topics =\", m, \" is having Coherence Value of\", round(cv, 4))"
   ]
  },
  {
   "cell_type": "markdown",
   "metadata": {},
   "source": [
    "Saving best model"
   ]
  },
  {
   "cell_type": "code",
   "execution_count": 19,
   "metadata": {},
   "outputs": [
    {
     "name": "stderr",
     "output_type": "stream",
     "text": [
      "/home/bilatli/anaconda3/lib/python3.7/site-packages/pyLDAvis/_prepare.py:236: RuntimeWarning: divide by zero encountered in log\n",
      "  log_1 = np.log(pd.eval(\"(topic_given_term.T / topic_proportion)\"))\n",
      "/home/bilatli/anaconda3/lib/python3.7/site-packages/pyLDAvis/_prepare.py:259: RuntimeWarning: divide by zero encountered in log\n",
      "  log_lift = np.log(pd.eval(\"topic_term_dists / term_proportion\")).astype(\"float64\")\n",
      "/home/bilatli/anaconda3/lib/python3.7/site-packages/pyLDAvis/_prepare.py:260: RuntimeWarning: divide by zero encountered in log\n",
      "  log_ttd = np.log(topic_term_dists).astype(\"float64\")\n"
     ]
    }
   ],
   "source": [
    "optimal_model = model_list[3]\n",
    "\n",
    "model = gensim.models.wrappers.ldamallet.malletmodel2ldamodel(optimal_model)\n",
    "\n",
    "pyLDAvis.enable_notebook()\n",
    "vis = pyLDAvis.gensim.prepare(model, corpus, id2word)\n",
    "\n",
    "vis = pyLDAvis.prepared_data_to_html(vis)\n",
    "\n",
    "#create folder to save it:\n",
    "if not os.path.exists('OUTPUT'):\n",
    "    os.makedirs('OUTPUT')\n",
    "    \n",
    "with open(\"OUTPUT/1LDA_output11s-0.html\", \"w\") as file:\n",
    "    file.write(vis)"
   ]
  },
  {
   "cell_type": "code",
   "execution_count": null,
   "metadata": {},
   "outputs": [],
   "source": []
  }
 ],
 "metadata": {
  "kernelspec": {
   "display_name": "Python 3",
   "language": "python",
   "name": "python3"
  },
  "language_info": {
   "codemirror_mode": {
    "name": "ipython",
    "version": 3
   },
   "file_extension": ".py",
   "mimetype": "text/x-python",
   "name": "python",
   "nbconvert_exporter": "python",
   "pygments_lexer": "ipython3",
   "version": "3.7.3"
  }
 },
 "nbformat": 4,
 "nbformat_minor": 2
}
